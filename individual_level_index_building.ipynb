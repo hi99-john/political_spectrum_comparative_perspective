{
 "cells": [
  {
   "cell_type": "code",
   "execution_count": 4,
   "id": "1c5c0811",
   "metadata": {},
   "outputs": [],
   "source": [
    "import numpy as np\n",
    "import pandas as pd"
   ]
  },
  {
   "cell_type": "markdown",
   "id": "a318ea10",
   "metadata": {},
   "source": [
    "# The class, the object, the data and the methods"
   ]
  },
  {
   "cell_type": "markdown",
   "id": "c17f1be2",
   "metadata": {},
   "source": [
    "## Defining the class"
   ]
  },
  {
   "cell_type": "code",
   "execution_count": 5,
   "id": "40ffc72e",
   "metadata": {},
   "outputs": [],
   "source": [
    "class IndividualLevelIndexBuilding:\n",
    "    dataset_names = ['freedom_data', 'socialism_data', 'family_data', 'ethnicity_data', 'gender_data', 'nationalism_data', 'religiosity_data']\n",
    "    def loading_each_dataset(self):\n",
    "        for x in self.dataset_names:\n",
    "            exec(f\"self.{x} = pd.read_csv('./individual_level_extracted_data/{x}.csv')\")\n",
    "        self.demographics_data = pd.read_csv('./individual_level_extracted_data/demographics_data.csv')\n",
    "        \n",
    "    def recoding_demographics(self):\n",
    "        self.demographics_data = self.demographics_data.assign(country = self.demographics_data.S003)\n",
    "        self.demographics_data = self.demographics_data.assign(gender = self.demographics_data.X001.map({1: 0, 2: 1, -2: None, -4: None, -5: None}))\n",
    "        self.demographics_data = self.demographics_data.assign(education = self.demographics_data.X025.map({0: 0, 1: 0, 2: 0, 3: 0.5, 4: 0.5, 5: 0.5, 6: 1, 7: 1, 8: 1, -1: 0, -2: None, -4: None, -5: None}))\n",
    "        self.demographics_data = self.demographics_data.assign(social_class = self.demographics_data.X045.map({1: 1, 2: 0.75, 3: 0.5, 4: 0.25, 5: 0, -1: 0.5, -2: None, -4: None, -5: None}))\n",
    "        self.demographics_data = self.demographics_data.assign(income = self.demographics_data.X047_IVS.map({1: 0, 2: 0, 3: 0.25, 4: 0.25, 5: 0.5, 6: 0.5, 7: 0.75, 8: 0.75, 9: 1, 10: 1, -1: 0.5, -2: None, -4: None, -5: None}))\n",
    "        self.demographics_data = self.demographics_data.assign(urban = self.demographics_data.X049.map({1: 0, 2: 0, 3: 0.25, 4: 0.25, 5: 0.25, 6: 0.5, 7: 0.75, 8: 1, -4: None, -5: None}))\n",
    "        \n",
    "    def recoding_age(self):\n",
    "        self.age_numbers = []\n",
    "        self.string_list = []\n",
    "        self.x = range(1, 104)\n",
    "        for n in self.x:\n",
    "            self.age_numbers.append(n)\n",
    "        for a in self.age_numbers:\n",
    "            self.string_list.append(f'{a}: {a}, ')\n",
    "        self.string_list.append('108: 108, ')\n",
    "        for b in [-1, -2, -4, -5]:\n",
    "            if b > -5:\n",
    "                self.string_list.append(f'{b}: None, ')\n",
    "            else:\n",
    "                self.string_list.append(f'{b}: None')\n",
    "        self.string_list = ['{'] + self.string_list + ['}']\n",
    "        self.age_string = ''.join(self.string_list)\n",
    "        exec(f'self.demographics_data = self.demographics_data.assign(age = self.demographics_data.X003.map({self.age_string}))')\n",
    "        \n",
    "#child independence, child imagination, child faith, child obedience, future authority, aims of country, aims of respondent, strong leader, army rule, democratic system\n",
    "    def recoding_freedom(self):\n",
    "        self.freedom_data = self.freedom_data.assign(child_independence = self.freedom_data.A029.map({0: 0, 1: 1, -1: 0.5, -2: None, -4: None, -5: None}))\n",
    "        self.freedom_data = self.freedom_data.assign(child_imagination = self.freedom_data.A034.map({0: 0, 1: 1, -1: 0.5, -2: None, -4: None, -5: None}))\n",
    "        self.freedom_data = self.freedom_data.assign(child_obedience = self.freedom_data.A042.map({0: 1, 1: 0, -1: 0.5, -2: None, -4: None, -5: None}))\n",
    "        self.freedom_data = self.freedom_data.assign(respect_authority = self.freedom_data.E018.map({1: 0, 2: 0.5, 3: 1, -1: 0.5, -2: None, -4: None, -5: None}))\n",
    "        self.freedom_data = self.freedom_data.assign(aim_of_country = self.freedom_data.E001.map({1: 0, 2: 0, 3: 1, 4: 0, -1: 0.5, -2: None, -4: None, -5: None}))\n",
    "        self.freedom_data = self.freedom_data.assign(aim_of_respondent = self.freedom_data.E003.map({1: 0, 2: 0, 3: 0, 4: 1, -1: 0.5, -2: None, -4: None, -5: None}))\n",
    "        self.freedom_data = self.freedom_data.assign(strong_leader = self.freedom_data.E114.map({1: 0, 2: 0.33, 3: 0.66, 4: 1, -1: 0.5, -2: None, -4: None, -5: None}))\n",
    "        self.freedom_data = self.freedom_data.assign(army_rule = self.freedom_data.E116.map({1: 0, 2: 0.33, 3: 0.66, 4: 1, -1: 0.5, -2: None, -4: None, -5: None}))\n",
    "        self.freedom_data = self.freedom_data.assign(democratic_system = self.freedom_data.E117.map({1: 1, 2: 0.66, 3: 0.33, 4: 0, -1: 0.5, -2: None, -4: None, -5: None}))\n",
    "                \n",
    "    def recoding_socialism(self):\n",
    "        self.socialism_data = self.socialism_data.assign(income_equality = self.socialism_data.E035.map({1: 1, 2: 1, 3: 0.75, 4: 0.75, 5: 0.5, 6: 0.5, 7: 0.25, 8: 0.25, 9: 0, 10: 0, -1: 0.5, -2: None, -4: None, -5: None}))\n",
    "        self.socialism_data = self.socialism_data.assign(state_ownership = self.socialism_data.E036.map({1: 0, 2: 0, 3: 0.25, 4: 0.25, 5: 0.5, 6: 0.5, 7: 0.75, 8: 0.75, 9: 1, 10: 1, -1: 0.5, -2: None, -4: None, -5: None}))        \n",
    "        self.socialism_data = self.socialism_data.assign(government_responsibility = self.socialism_data.E037.map({1: 1, 2: 1, 3: 0.75, 4: 0.75, 5: 0.5, 6: 0.5, 7: 0.25, 8: 0.25, 9: 0, 10: 0, -1: 0.5, -2: None, -4: None, -5: None}))        \n",
    "        self.socialism_data = self.socialism_data.assign(competition_harmful = self.socialism_data.E039.map({1: 0, 2: 0, 3: 0.25, 4: 0.25, 5: 0.5, 6: 0.5, 7: 0.75, 8: 0.75, 9: 1, 10: 1, -1: 0.5, -2: None, -4: None, -5: None}))                \n",
    "        \n",
    "    def recoding_family(self):\n",
    "        self.family_data = self.family_data.assign(justifiable_homosexuality = self.family_data.F118.map({1: 0, 2: 0, 3: 0.25, 4: 0.25, 5: 0.5, 6: 0.5, 7: 0.75, 8: 0.75, 9: 1, 10: 1, -1: 0.5, -2: None, -4: None, -5: None}))\n",
    "        self.family_data = self.family_data.assign(justifiable_prostitution = self.family_data.F119.map({1: 0, 2: 0, 3: 0.25, 4: 0.25, 5: 0.5, 6: 0.5, 7: 0.75, 8: 0.75, 9: 1, 10: 1, -1: 0.5, -2: None, -4: None, -5: None}))  \n",
    "        self.family_data = self.family_data.assign(justifiable_abortion = self.family_data.F120.map({1: 0, 2: 0, 3: 0.25, 4: 0.25, 5: 0.5, 6: 0.5, 7: 0.75, 8: 0.75, 9: 1, 10: 1, -1: 0.5, -2: None, -4: None, -5: None}))  \n",
    "        self.family_data = self.family_data.assign(justifiable_divorce = self.family_data.F121.map({1: 0, 2: 0, 3: 0.25, 4: 0.25, 5: 0.5, 6: 0.5, 7: 0.75, 8: 0.75, 9: 1, 10: 1, -1: 0.5, -2: None, -4: None, -5: None}))          \n",
    "        \n",
    "    def recoding_ethnicity(self):\n",
    "        self.ethnicity_data = self.ethnicity_data.assign(neighbors_race = self.ethnicity_data.A124_02.map({0: 1, 1: 0, -1: 0.5, -2: None, -4: None, -5: None}))\n",
    "        self.ethnicity_data = self.ethnicity_data.assign(neighbors_immigrants = self.ethnicity_data.A124_06.map({0: 1, 1: 0, -1: 0.5, -2: None, -4: None, -5: None}))\n",
    "        self.ethnicity_data = self.ethnicity_data.assign(imigrant_jobs = self.ethnicity_data.C002.map({1: 0, 2: 1, 3: 0.5, -1: 0.5, -2: None, -4: None, -5: None}))        \n",
    "        \n",
    "    def recoding_gender(self):\n",
    "        self.gender_data = self.gender_data.assign(men_leaders = self.gender_data.D059.map({1: 0, 2: 0.33, 3: 0.66, 4: 1, -1: 0.5, -2: None, -4: None, -5: None}))\n",
    "        self.gender_data = self.gender_data.assign(men_jobs = self.gender_data.C001.map({1: 0, 2: 1, 3: 0.5, -1: 0.5, -2: None, -4: None, -5: None}))\n",
    "        self.gender_data = self.gender_data.assign(university_boy = self.gender_data.D060.map({1: 0, 2: 0.33, 3: 0.66, 4: 1, -1: 0.5, -2: None, -4: None, -5: None}))\n",
    "        \n",
    "    def recoding_nationalism(self):\n",
    "        self.nationalism_data = self.nationalism_data.assign(willing_to_fight = self.nationalism_data.E012.map({0: 0, 1: 1, -1: 0.5, -2: None, -4: None, -5: None}))        \n",
    "        self.nationalism_data = self.nationalism_data.assign(national_pride = self.nationalism_data.G006.map({1: 1, 2: 0.66, 3: 0.33, 4: 0, -1: 0.5, -2: None, -4: None, -5: None}))                \n",
    "        \n",
    "    def recoding_religiosity(self):\n",
    "        self.religiosity_data = self.religiosity_data.assign(important_in_life = self.religiosity_data.A006.map({1: 1, 2: 0.66, 3: 0.33, 4: 0, -1: 0.5, -2: None, -4: None, -5: None}))\n",
    "        self.religiosity_data = self.religiosity_data.assign(child_faith = self.religiosity_data.A040.map({0: 0, 1: 1, -1: 0.5, -2: None, -4: None, -5: None}))\n",
    "        self.religiosity_data = self.religiosity_data.assign(importance_of_god = self.religiosity_data.F063.map({1: 0, 2: 0, 3: 0.25, 4: 0.25, 5: 0.5, 6: 0.5, 7: 0.75, 8: 0.75, 9: 1, 10: 1, -1: 0.5, -2: None, -4: None, -5: None}))\n",
    "        self.religiosity_data = self.religiosity_data.assign(religious_attendance = self.religiosity_data.F028.map({1: 1, 2: 1, 3: 0.75, 4: 0.5, 5: 0.25, 6: 0, 7: 0, -1: 0.5, -2: None, -4: None, -5: None}))        \n",
    "        self.religiosity_data = self.religiosity_data.assign(religious_person = self.religiosity_data.F034.map({1: 1, 2: 0.5, 3: 1, -1: 0.5, -2: None, -4: None, -5: None}))\n",
    "\n",
    "    def subindices_freedom(self):\n",
    "        self.freedom_data = self.freedom_data.assign(child_qualities = (self.freedom_data.child_independence + self.freedom_data.child_imagination + self.freedom_data.child_obedience)/3)\n",
    "        self.freedom_data = self.freedom_data.assign(social_goals = (self.freedom_data.aim_of_country + self.freedom_data.aim_of_respondent)/2)\n",
    "        self.freedom_data = self.freedom_data.assign(political_systems = (self.freedom_data.strong_leader + self.freedom_data.army_rule + self.freedom_data.democratic_system)/3)\n",
    "        \n",
    "    def building_indices(self):\n",
    "        self.freedom_data = self.freedom_data.assign(freedom_index = round((self.freedom_data.child_qualities + self.freedom_data.respect_authority + self.freedom_data.social_goals + self.freedom_data.political_systems)/4, 2))\n",
    "        self.socialism_data = self.socialism_data.assign(socialism_index = round((self.socialism_data.income_equality + self.socialism_data.state_ownership + self.socialism_data.government_responsibility + self.socialism_data.competition_harmful)/4, 2))\n",
    "        self.family_data = self.family_data.assign(family_index = round((self.family_data.justifiable_homosexuality + self.family_data.justifiable_prostitution + self.family_data.justifiable_abortion + self.family_data.justifiable_divorce)/4, 2))\n",
    "        self.ethnicity_data = self.ethnicity_data.assign(ethnicity_index = round((self.ethnicity_data.neighbors_race + self.ethnicity_data.neighbors_immigrants + self.ethnicity_data.imigrant_jobs)/3, 2))\n",
    "        self.gender_data = self.gender_data.assign(gender_index = round((self.gender_data.men_leaders + self.gender_data.men_jobs + self.gender_data.university_boy)/3, 2))\n",
    "        self.nationalism_data = self.nationalism_data.assign(nationalism_index = round((self.nationalism_data.willing_to_fight + self.nationalism_data.national_pride)/2, 2))\n",
    "        self.religiosity_data = self.religiosity_data.assign(religiosity_index = round((self.religiosity_data.important_in_life + self.religiosity_data.child_faith + self.religiosity_data.religious_attendance + self.religiosity_data.importance_of_god + self.religiosity_data.religious_person)/5, 2))\n",
    "        \n",
    "    def index_frame(self):\n",
    "        self.final_frame = self.demographics_data[['country', 'gender', 'education', 'social_class', 'income', 'urban']]\n",
    "        self.political_orientation_indices = [\"self.freedom_data[['freedom_index']]\",\n",
    "        \"self.socialism_data[['socialism_index']]\",\n",
    "        \"self.family_data[['family_index']]\",\n",
    "        \"self.ethnicity_data[['ethnicity_index']]\",\n",
    "        \"self.gender_data[['gender_index']]\",\n",
    "        \"self.nationalism_data[['nationalism_index']]\",\n",
    "        \"self.religiosity_data[['religiosity_index']]\"]\n",
    "        for x in self.political_orientation_indices:\n",
    "            exec(f'self.final_frame = self.final_frame.join({x})')\n",
    "\n",
    "    def data_saver(self):\n",
    "        self.final_frame.to_csv('./individual_level_processed_data/final_frame.csv', sep=',', index=False, encoding='utf-8')"
   ]
  },
  {
   "cell_type": "markdown",
   "id": "02bae3b3",
   "metadata": {},
   "source": [
    "## Instantiating the class"
   ]
  },
  {
   "cell_type": "code",
   "execution_count": 6,
   "id": "73ef5d5b",
   "metadata": {},
   "outputs": [],
   "source": [
    "IndividualLevelIndexBuilder = IndividualLevelIndexBuilding()"
   ]
  },
  {
   "cell_type": "markdown",
   "id": "f13ec045",
   "metadata": {},
   "source": [
    "## Caling the methods"
   ]
  },
  {
   "cell_type": "code",
   "execution_count": 7,
   "id": "d0375035",
   "metadata": {},
   "outputs": [],
   "source": [
    "IndividualLevelIndexBuilder.loading_each_dataset()"
   ]
  },
  {
   "cell_type": "code",
   "execution_count": 54,
   "id": "48a2bc13",
   "metadata": {
    "scrolled": true
   },
   "outputs": [],
   "source": [
    "IndividualLevelIndexBuilder.recoding_demographics()"
   ]
  },
  {
   "cell_type": "code",
   "execution_count": 55,
   "id": "4f78d70a",
   "metadata": {},
   "outputs": [],
   "source": [
    "IndividualLevelIndexBuilder.recoding_freedom()"
   ]
  },
  {
   "cell_type": "code",
   "execution_count": 56,
   "id": "c9b407fa",
   "metadata": {},
   "outputs": [],
   "source": [
    "IndividualLevelIndexBuilder.recoding_socialism()"
   ]
  },
  {
   "cell_type": "code",
   "execution_count": 57,
   "id": "6f3e0fc0",
   "metadata": {},
   "outputs": [],
   "source": [
    "IndividualLevelIndexBuilder.recoding_family()"
   ]
  },
  {
   "cell_type": "code",
   "execution_count": 58,
   "id": "81550514",
   "metadata": {},
   "outputs": [],
   "source": [
    "IndividualLevelIndexBuilder.recoding_ethnicity()"
   ]
  },
  {
   "cell_type": "code",
   "execution_count": 59,
   "id": "871edaec",
   "metadata": {},
   "outputs": [],
   "source": [
    "IndividualLevelIndexBuilder.recoding_gender()"
   ]
  },
  {
   "cell_type": "code",
   "execution_count": 60,
   "id": "638a643e",
   "metadata": {},
   "outputs": [],
   "source": [
    "IndividualLevelIndexBuilder.recoding_nationalism()"
   ]
  },
  {
   "cell_type": "code",
   "execution_count": 61,
   "id": "81525470",
   "metadata": {},
   "outputs": [],
   "source": [
    "IndividualLevelIndexBuilder.recoding_religiosity()"
   ]
  },
  {
   "cell_type": "code",
   "execution_count": 62,
   "id": "176f287f",
   "metadata": {},
   "outputs": [],
   "source": [
    "IndividualLevelIndexBuilder.subindices_freedom()"
   ]
  },
  {
   "cell_type": "code",
   "execution_count": 63,
   "id": "df44e6e2",
   "metadata": {},
   "outputs": [],
   "source": [
    "IndividualLevelIndexBuilder.building_indices()"
   ]
  },
  {
   "cell_type": "code",
   "execution_count": 64,
   "id": "f937b0c2",
   "metadata": {},
   "outputs": [],
   "source": [
    "IndividualLevelIndexBuilder.index_frame()"
   ]
  },
  {
   "cell_type": "code",
   "execution_count": 66,
   "id": "3f66a409",
   "metadata": {},
   "outputs": [],
   "source": [
    "IndividualLevelIndexBuilder.data_saver()"
   ]
  },
  {
   "cell_type": "markdown",
   "id": "f035a92c",
   "metadata": {},
   "source": [
    "# The results"
   ]
  },
  {
   "cell_type": "markdown",
   "id": "087cc6b5",
   "metadata": {},
   "source": [
    "## The loading_each_dataset() method, the nine recoding methods, the subindices_freedom() method and the building_indices() method"
   ]
  },
  {
   "cell_type": "markdown",
   "id": "c124dd3b",
   "metadata": {},
   "source": [
    "#### Freedom data"
   ]
  },
  {
   "cell_type": "code",
   "execution_count": 8,
   "id": "cf6f3a42",
   "metadata": {
    "scrolled": true
   },
   "outputs": [
    {
     "data": {
      "text/html": [
       "<div>\n",
       "<style scoped>\n",
       "    .dataframe tbody tr th:only-of-type {\n",
       "        vertical-align: middle;\n",
       "    }\n",
       "\n",
       "    .dataframe tbody tr th {\n",
       "        vertical-align: top;\n",
       "    }\n",
       "\n",
       "    .dataframe thead th {\n",
       "        text-align: right;\n",
       "    }\n",
       "</style>\n",
       "<table border=\"1\" class=\"dataframe\">\n",
       "  <thead>\n",
       "    <tr style=\"text-align: right;\">\n",
       "      <th></th>\n",
       "      <th>A029</th>\n",
       "      <th>A034</th>\n",
       "      <th>A040</th>\n",
       "      <th>A042</th>\n",
       "      <th>E018</th>\n",
       "      <th>E001</th>\n",
       "      <th>E003</th>\n",
       "      <th>E114</th>\n",
       "      <th>E116</th>\n",
       "      <th>E117</th>\n",
       "    </tr>\n",
       "  </thead>\n",
       "  <tbody>\n",
       "    <tr>\n",
       "      <th>0</th>\n",
       "      <td>0</td>\n",
       "      <td>0</td>\n",
       "      <td>0</td>\n",
       "      <td>1</td>\n",
       "      <td>2</td>\n",
       "      <td>-1</td>\n",
       "      <td>-1</td>\n",
       "      <td>-1</td>\n",
       "      <td>-1</td>\n",
       "      <td>1</td>\n",
       "    </tr>\n",
       "    <tr>\n",
       "      <th>1</th>\n",
       "      <td>0</td>\n",
       "      <td>0</td>\n",
       "      <td>0</td>\n",
       "      <td>1</td>\n",
       "      <td>2</td>\n",
       "      <td>-1</td>\n",
       "      <td>-1</td>\n",
       "      <td>-1</td>\n",
       "      <td>-1</td>\n",
       "      <td>-1</td>\n",
       "    </tr>\n",
       "    <tr>\n",
       "      <th>2</th>\n",
       "      <td>0</td>\n",
       "      <td>0</td>\n",
       "      <td>0</td>\n",
       "      <td>1</td>\n",
       "      <td>2</td>\n",
       "      <td>-1</td>\n",
       "      <td>-1</td>\n",
       "      <td>-1</td>\n",
       "      <td>-1</td>\n",
       "      <td>-1</td>\n",
       "    </tr>\n",
       "    <tr>\n",
       "      <th>3</th>\n",
       "      <td>1</td>\n",
       "      <td>1</td>\n",
       "      <td>0</td>\n",
       "      <td>1</td>\n",
       "      <td>2</td>\n",
       "      <td>-1</td>\n",
       "      <td>-1</td>\n",
       "      <td>4</td>\n",
       "      <td>4</td>\n",
       "      <td>1</td>\n",
       "    </tr>\n",
       "    <tr>\n",
       "      <th>4</th>\n",
       "      <td>0</td>\n",
       "      <td>0</td>\n",
       "      <td>0</td>\n",
       "      <td>1</td>\n",
       "      <td>2</td>\n",
       "      <td>1</td>\n",
       "      <td>-1</td>\n",
       "      <td>3</td>\n",
       "      <td>4</td>\n",
       "      <td>2</td>\n",
       "    </tr>\n",
       "    <tr>\n",
       "      <th>...</th>\n",
       "      <td>...</td>\n",
       "      <td>...</td>\n",
       "      <td>...</td>\n",
       "      <td>...</td>\n",
       "      <td>...</td>\n",
       "      <td>...</td>\n",
       "      <td>...</td>\n",
       "      <td>...</td>\n",
       "      <td>...</td>\n",
       "      <td>...</td>\n",
       "    </tr>\n",
       "    <tr>\n",
       "      <th>675298</th>\n",
       "      <td>1</td>\n",
       "      <td>0</td>\n",
       "      <td>1</td>\n",
       "      <td>1</td>\n",
       "      <td>1</td>\n",
       "      <td>-4</td>\n",
       "      <td>1</td>\n",
       "      <td>1</td>\n",
       "      <td>2</td>\n",
       "      <td>2</td>\n",
       "    </tr>\n",
       "    <tr>\n",
       "      <th>675299</th>\n",
       "      <td>0</td>\n",
       "      <td>0</td>\n",
       "      <td>1</td>\n",
       "      <td>0</td>\n",
       "      <td>1</td>\n",
       "      <td>-4</td>\n",
       "      <td>1</td>\n",
       "      <td>2</td>\n",
       "      <td>2</td>\n",
       "      <td>2</td>\n",
       "    </tr>\n",
       "    <tr>\n",
       "      <th>675300</th>\n",
       "      <td>1</td>\n",
       "      <td>0</td>\n",
       "      <td>1</td>\n",
       "      <td>1</td>\n",
       "      <td>1</td>\n",
       "      <td>-4</td>\n",
       "      <td>3</td>\n",
       "      <td>-1</td>\n",
       "      <td>1</td>\n",
       "      <td>1</td>\n",
       "    </tr>\n",
       "    <tr>\n",
       "      <th>675301</th>\n",
       "      <td>0</td>\n",
       "      <td>0</td>\n",
       "      <td>0</td>\n",
       "      <td>1</td>\n",
       "      <td>1</td>\n",
       "      <td>-4</td>\n",
       "      <td>2</td>\n",
       "      <td>-1</td>\n",
       "      <td>1</td>\n",
       "      <td>1</td>\n",
       "    </tr>\n",
       "    <tr>\n",
       "      <th>675302</th>\n",
       "      <td>0</td>\n",
       "      <td>0</td>\n",
       "      <td>1</td>\n",
       "      <td>0</td>\n",
       "      <td>3</td>\n",
       "      <td>-4</td>\n",
       "      <td>1</td>\n",
       "      <td>-1</td>\n",
       "      <td>-1</td>\n",
       "      <td>-1</td>\n",
       "    </tr>\n",
       "  </tbody>\n",
       "</table>\n",
       "<p>675303 rows × 10 columns</p>\n",
       "</div>"
      ],
      "text/plain": [
       "        A029  A034  A040  A042  E018  E001  E003  E114  E116  E117\n",
       "0          0     0     0     1     2    -1    -1    -1    -1     1\n",
       "1          0     0     0     1     2    -1    -1    -1    -1    -1\n",
       "2          0     0     0     1     2    -1    -1    -1    -1    -1\n",
       "3          1     1     0     1     2    -1    -1     4     4     1\n",
       "4          0     0     0     1     2     1    -1     3     4     2\n",
       "...      ...   ...   ...   ...   ...   ...   ...   ...   ...   ...\n",
       "675298     1     0     1     1     1    -4     1     1     2     2\n",
       "675299     0     0     1     0     1    -4     1     2     2     2\n",
       "675300     1     0     1     1     1    -4     3    -1     1     1\n",
       "675301     0     0     0     1     1    -4     2    -1     1     1\n",
       "675302     0     0     1     0     3    -4     1    -1    -1    -1\n",
       "\n",
       "[675303 rows x 10 columns]"
      ]
     },
     "execution_count": 8,
     "metadata": {},
     "output_type": "execute_result"
    }
   ],
   "source": [
    "IndividualLevelIndexBuilder.freedom_data"
   ]
  },
  {
   "cell_type": "code",
   "execution_count": 9,
   "id": "fc2519d3",
   "metadata": {},
   "outputs": [
    {
     "data": {
      "text/plain": [
       "array([ 0,  1, -2, -1, -4, -5], dtype=int64)"
      ]
     },
     "execution_count": 9,
     "metadata": {},
     "output_type": "execute_result"
    }
   ],
   "source": [
    "IndividualLevelIndexBuilder.freedom_data.A029.unique()"
   ]
  },
  {
   "cell_type": "code",
   "execution_count": 10,
   "id": "0570da8f",
   "metadata": {},
   "outputs": [
    {
     "data": {
      "text/plain": [
       "array([ 0,  1, -2, -1, -4, -5], dtype=int64)"
      ]
     },
     "execution_count": 10,
     "metadata": {},
     "output_type": "execute_result"
    }
   ],
   "source": [
    "IndividualLevelIndexBuilder.freedom_data.A034.unique()"
   ]
  },
  {
   "cell_type": "code",
   "execution_count": 11,
   "id": "4142d63d",
   "metadata": {},
   "outputs": [
    {
     "data": {
      "text/plain": [
       "array([ 0,  1, -2, -1, -4, -5], dtype=int64)"
      ]
     },
     "execution_count": 11,
     "metadata": {},
     "output_type": "execute_result"
    }
   ],
   "source": [
    "IndividualLevelIndexBuilder.freedom_data.A040.unique()"
   ]
  },
  {
   "cell_type": "code",
   "execution_count": 12,
   "id": "6841093e",
   "metadata": {},
   "outputs": [
    {
     "data": {
      "text/plain": [
       "array([ 1,  0, -2, -1, -4, -5], dtype=int64)"
      ]
     },
     "execution_count": 12,
     "metadata": {},
     "output_type": "execute_result"
    }
   ],
   "source": [
    "IndividualLevelIndexBuilder.freedom_data.A042.unique()"
   ]
  },
  {
   "cell_type": "code",
   "execution_count": 13,
   "id": "d44aa54d",
   "metadata": {
    "scrolled": true
   },
   "outputs": [
    {
     "data": {
      "text/plain": [
       "array([ 2,  1,  3, -1, -2, -5, -4], dtype=int64)"
      ]
     },
     "execution_count": 13,
     "metadata": {},
     "output_type": "execute_result"
    }
   ],
   "source": [
    "IndividualLevelIndexBuilder.freedom_data.E018.unique()"
   ]
  },
  {
   "cell_type": "code",
   "execution_count": 14,
   "id": "b6078a68",
   "metadata": {},
   "outputs": [
    {
     "data": {
      "text/plain": [
       "array([-1,  1,  3,  2,  4, -2, -4, -5], dtype=int64)"
      ]
     },
     "execution_count": 14,
     "metadata": {},
     "output_type": "execute_result"
    }
   ],
   "source": [
    "IndividualLevelIndexBuilder.freedom_data.E001.unique()"
   ]
  },
  {
   "cell_type": "code",
   "execution_count": 15,
   "id": "d86c52ee",
   "metadata": {},
   "outputs": [
    {
     "data": {
      "text/plain": [
       "array([-1,  1,  3,  4,  2, -2, -4, -5], dtype=int64)"
      ]
     },
     "execution_count": 15,
     "metadata": {},
     "output_type": "execute_result"
    }
   ],
   "source": [
    "IndividualLevelIndexBuilder.freedom_data.E003.unique()"
   ]
  },
  {
   "cell_type": "code",
   "execution_count": 16,
   "id": "c4b7f157",
   "metadata": {},
   "outputs": [
    {
     "data": {
      "text/plain": [
       "array([-1,  4,  3,  1,  2, -2, -4, -5], dtype=int64)"
      ]
     },
     "execution_count": 16,
     "metadata": {},
     "output_type": "execute_result"
    }
   ],
   "source": [
    "IndividualLevelIndexBuilder.freedom_data.E114.unique()"
   ]
  },
  {
   "cell_type": "code",
   "execution_count": 17,
   "id": "84d2d807",
   "metadata": {},
   "outputs": [
    {
     "data": {
      "text/plain": [
       "array([-1,  4,  1,  3,  2, -2, -4, -5], dtype=int64)"
      ]
     },
     "execution_count": 17,
     "metadata": {},
     "output_type": "execute_result"
    }
   ],
   "source": [
    "IndividualLevelIndexBuilder.freedom_data.E116.unique()"
   ]
  },
  {
   "cell_type": "code",
   "execution_count": 18,
   "id": "5a2cefe5",
   "metadata": {},
   "outputs": [
    {
     "data": {
      "text/plain": [
       "array([ 1, -1,  2,  4,  3, -2, -4, -5], dtype=int64)"
      ]
     },
     "execution_count": 18,
     "metadata": {},
     "output_type": "execute_result"
    }
   ],
   "source": [
    "IndividualLevelIndexBuilder.freedom_data.E117.unique()"
   ]
  },
  {
   "cell_type": "markdown",
   "id": "7b9a95df",
   "metadata": {},
   "source": [
    "#### Socialism data"
   ]
  },
  {
   "cell_type": "code",
   "execution_count": 19,
   "id": "b788ea36",
   "metadata": {
    "scrolled": true
   },
   "outputs": [
    {
     "data": {
      "text/html": [
       "<div>\n",
       "<style scoped>\n",
       "    .dataframe tbody tr th:only-of-type {\n",
       "        vertical-align: middle;\n",
       "    }\n",
       "\n",
       "    .dataframe tbody tr th {\n",
       "        vertical-align: top;\n",
       "    }\n",
       "\n",
       "    .dataframe thead th {\n",
       "        text-align: right;\n",
       "    }\n",
       "</style>\n",
       "<table border=\"1\" class=\"dataframe\">\n",
       "  <thead>\n",
       "    <tr style=\"text-align: right;\">\n",
       "      <th></th>\n",
       "      <th>E035</th>\n",
       "      <th>E036</th>\n",
       "      <th>E037</th>\n",
       "      <th>E039</th>\n",
       "    </tr>\n",
       "  </thead>\n",
       "  <tbody>\n",
       "    <tr>\n",
       "      <th>0</th>\n",
       "      <td>7</td>\n",
       "      <td>3</td>\n",
       "      <td>4</td>\n",
       "      <td>3</td>\n",
       "    </tr>\n",
       "    <tr>\n",
       "      <th>1</th>\n",
       "      <td>7</td>\n",
       "      <td>3</td>\n",
       "      <td>10</td>\n",
       "      <td>2</td>\n",
       "    </tr>\n",
       "    <tr>\n",
       "      <th>2</th>\n",
       "      <td>7</td>\n",
       "      <td>1</td>\n",
       "      <td>9</td>\n",
       "      <td>-1</td>\n",
       "    </tr>\n",
       "    <tr>\n",
       "      <th>3</th>\n",
       "      <td>9</td>\n",
       "      <td>2</td>\n",
       "      <td>8</td>\n",
       "      <td>3</td>\n",
       "    </tr>\n",
       "    <tr>\n",
       "      <th>4</th>\n",
       "      <td>4</td>\n",
       "      <td>6</td>\n",
       "      <td>8</td>\n",
       "      <td>6</td>\n",
       "    </tr>\n",
       "    <tr>\n",
       "      <th>...</th>\n",
       "      <td>...</td>\n",
       "      <td>...</td>\n",
       "      <td>...</td>\n",
       "      <td>...</td>\n",
       "    </tr>\n",
       "    <tr>\n",
       "      <th>675298</th>\n",
       "      <td>5</td>\n",
       "      <td>10</td>\n",
       "      <td>5</td>\n",
       "      <td>4</td>\n",
       "    </tr>\n",
       "    <tr>\n",
       "      <th>675299</th>\n",
       "      <td>10</td>\n",
       "      <td>10</td>\n",
       "      <td>10</td>\n",
       "      <td>5</td>\n",
       "    </tr>\n",
       "    <tr>\n",
       "      <th>675300</th>\n",
       "      <td>10</td>\n",
       "      <td>10</td>\n",
       "      <td>10</td>\n",
       "      <td>5</td>\n",
       "    </tr>\n",
       "    <tr>\n",
       "      <th>675301</th>\n",
       "      <td>1</td>\n",
       "      <td>-1</td>\n",
       "      <td>10</td>\n",
       "      <td>7</td>\n",
       "    </tr>\n",
       "    <tr>\n",
       "      <th>675302</th>\n",
       "      <td>5</td>\n",
       "      <td>10</td>\n",
       "      <td>5</td>\n",
       "      <td>7</td>\n",
       "    </tr>\n",
       "  </tbody>\n",
       "</table>\n",
       "<p>675303 rows × 4 columns</p>\n",
       "</div>"
      ],
      "text/plain": [
       "        E035  E036  E037  E039\n",
       "0          7     3     4     3\n",
       "1          7     3    10     2\n",
       "2          7     1     9    -1\n",
       "3          9     2     8     3\n",
       "4          4     6     8     6\n",
       "...      ...   ...   ...   ...\n",
       "675298     5    10     5     4\n",
       "675299    10    10    10     5\n",
       "675300    10    10    10     5\n",
       "675301     1    -1    10     7\n",
       "675302     5    10     5     7\n",
       "\n",
       "[675303 rows x 4 columns]"
      ]
     },
     "execution_count": 19,
     "metadata": {},
     "output_type": "execute_result"
    }
   ],
   "source": [
    "IndividualLevelIndexBuilder.socialism_data"
   ]
  },
  {
   "cell_type": "code",
   "execution_count": 20,
   "id": "236a0f05",
   "metadata": {},
   "outputs": [
    {
     "data": {
      "text/plain": [
       "array([ 7,  9,  4,  2,  5,  6, 10, -1,  1,  3,  8, -2, -4, -5],\n",
       "      dtype=int64)"
      ]
     },
     "execution_count": 20,
     "metadata": {},
     "output_type": "execute_result"
    }
   ],
   "source": [
    "IndividualLevelIndexBuilder.socialism_data.E035.unique()"
   ]
  },
  {
   "cell_type": "code",
   "execution_count": 21,
   "id": "1e389e7c",
   "metadata": {},
   "outputs": [
    {
     "data": {
      "text/plain": [
       "array([ 3,  1,  2,  6, -1,  5, 10,  8,  7,  4,  9, -2, -4, -5],\n",
       "      dtype=int64)"
      ]
     },
     "execution_count": 21,
     "metadata": {},
     "output_type": "execute_result"
    }
   ],
   "source": [
    "IndividualLevelIndexBuilder.socialism_data.E036.unique()"
   ]
  },
  {
   "cell_type": "code",
   "execution_count": 22,
   "id": "16b1c2c9",
   "metadata": {},
   "outputs": [
    {
     "data": {
      "text/plain": [
       "array([ 4, 10,  9,  8,  3,  7,  5,  2,  6,  1, -1, -2, -4, -5],\n",
       "      dtype=int64)"
      ]
     },
     "execution_count": 22,
     "metadata": {},
     "output_type": "execute_result"
    }
   ],
   "source": [
    "IndividualLevelIndexBuilder.socialism_data.E037.unique()"
   ]
  },
  {
   "cell_type": "code",
   "execution_count": 23,
   "id": "e48f3162",
   "metadata": {},
   "outputs": [
    {
     "data": {
      "text/plain": [
       "array([ 3,  2, -1,  6,  5,  1,  4,  7, 10,  9,  8, -4, -2, -5],\n",
       "      dtype=int64)"
      ]
     },
     "execution_count": 23,
     "metadata": {},
     "output_type": "execute_result"
    }
   ],
   "source": [
    "IndividualLevelIndexBuilder.socialism_data.E039.unique()"
   ]
  },
  {
   "cell_type": "markdown",
   "id": "53a55979",
   "metadata": {},
   "source": [
    "#### Family_data"
   ]
  },
  {
   "cell_type": "code",
   "execution_count": 24,
   "id": "fb989be5",
   "metadata": {
    "scrolled": true
   },
   "outputs": [
    {
     "data": {
      "text/html": [
       "<div>\n",
       "<style scoped>\n",
       "    .dataframe tbody tr th:only-of-type {\n",
       "        vertical-align: middle;\n",
       "    }\n",
       "\n",
       "    .dataframe tbody tr th {\n",
       "        vertical-align: top;\n",
       "    }\n",
       "\n",
       "    .dataframe thead th {\n",
       "        text-align: right;\n",
       "    }\n",
       "</style>\n",
       "<table border=\"1\" class=\"dataframe\">\n",
       "  <thead>\n",
       "    <tr style=\"text-align: right;\">\n",
       "      <th></th>\n",
       "      <th>F118</th>\n",
       "      <th>F119</th>\n",
       "      <th>F120</th>\n",
       "      <th>F121</th>\n",
       "    </tr>\n",
       "  </thead>\n",
       "  <tbody>\n",
       "    <tr>\n",
       "      <th>0</th>\n",
       "      <td>-1</td>\n",
       "      <td>1</td>\n",
       "      <td>-1</td>\n",
       "      <td>1</td>\n",
       "    </tr>\n",
       "    <tr>\n",
       "      <th>1</th>\n",
       "      <td>1</td>\n",
       "      <td>1</td>\n",
       "      <td>1</td>\n",
       "      <td>1</td>\n",
       "    </tr>\n",
       "    <tr>\n",
       "      <th>2</th>\n",
       "      <td>-1</td>\n",
       "      <td>1</td>\n",
       "      <td>1</td>\n",
       "      <td>1</td>\n",
       "    </tr>\n",
       "    <tr>\n",
       "      <th>3</th>\n",
       "      <td>4</td>\n",
       "      <td>4</td>\n",
       "      <td>10</td>\n",
       "      <td>6</td>\n",
       "    </tr>\n",
       "    <tr>\n",
       "      <th>4</th>\n",
       "      <td>1</td>\n",
       "      <td>1</td>\n",
       "      <td>1</td>\n",
       "      <td>3</td>\n",
       "    </tr>\n",
       "    <tr>\n",
       "      <th>...</th>\n",
       "      <td>...</td>\n",
       "      <td>...</td>\n",
       "      <td>...</td>\n",
       "      <td>...</td>\n",
       "    </tr>\n",
       "    <tr>\n",
       "      <th>675298</th>\n",
       "      <td>2</td>\n",
       "      <td>5</td>\n",
       "      <td>1</td>\n",
       "      <td>4</td>\n",
       "    </tr>\n",
       "    <tr>\n",
       "      <th>675299</th>\n",
       "      <td>1</td>\n",
       "      <td>10</td>\n",
       "      <td>1</td>\n",
       "      <td>5</td>\n",
       "    </tr>\n",
       "    <tr>\n",
       "      <th>675300</th>\n",
       "      <td>7</td>\n",
       "      <td>5</td>\n",
       "      <td>5</td>\n",
       "      <td>10</td>\n",
       "    </tr>\n",
       "    <tr>\n",
       "      <th>675301</th>\n",
       "      <td>1</td>\n",
       "      <td>1</td>\n",
       "      <td>1</td>\n",
       "      <td>1</td>\n",
       "    </tr>\n",
       "    <tr>\n",
       "      <th>675302</th>\n",
       "      <td>5</td>\n",
       "      <td>2</td>\n",
       "      <td>1</td>\n",
       "      <td>1</td>\n",
       "    </tr>\n",
       "  </tbody>\n",
       "</table>\n",
       "<p>675303 rows × 4 columns</p>\n",
       "</div>"
      ],
      "text/plain": [
       "        F118  F119  F120  F121\n",
       "0         -1     1    -1     1\n",
       "1          1     1     1     1\n",
       "2         -1     1     1     1\n",
       "3          4     4    10     6\n",
       "4          1     1     1     3\n",
       "...      ...   ...   ...   ...\n",
       "675298     2     5     1     4\n",
       "675299     1    10     1     5\n",
       "675300     7     5     5    10\n",
       "675301     1     1     1     1\n",
       "675302     5     2     1     1\n",
       "\n",
       "[675303 rows x 4 columns]"
      ]
     },
     "execution_count": 24,
     "metadata": {},
     "output_type": "execute_result"
    }
   ],
   "source": [
    "IndividualLevelIndexBuilder.family_data"
   ]
  },
  {
   "cell_type": "code",
   "execution_count": 25,
   "id": "5e0106af",
   "metadata": {},
   "outputs": [
    {
     "data": {
      "text/plain": [
       "array([-1,  1,  4,  6,  3,  2,  7,  5,  9,  8, 10, -2, -4, -5],\n",
       "      dtype=int64)"
      ]
     },
     "execution_count": 25,
     "metadata": {},
     "output_type": "execute_result"
    }
   ],
   "source": [
    "IndividualLevelIndexBuilder.family_data.F118.unique()"
   ]
  },
  {
   "cell_type": "code",
   "execution_count": 26,
   "id": "a8672640",
   "metadata": {},
   "outputs": [
    {
     "data": {
      "text/plain": [
       "array([ 1,  4,  3,  2, -1,  5,  7,  6,  9,  8, 10, -4, -2, -5],\n",
       "      dtype=int64)"
      ]
     },
     "execution_count": 26,
     "metadata": {},
     "output_type": "execute_result"
    }
   ],
   "source": [
    "IndividualLevelIndexBuilder.family_data.F119.unique()"
   ]
  },
  {
   "cell_type": "code",
   "execution_count": 27,
   "id": "8811bebb",
   "metadata": {},
   "outputs": [
    {
     "data": {
      "text/plain": [
       "array([-1,  1, 10,  3,  6,  5,  2,  4,  9,  7,  8, -2, -4, -5],\n",
       "      dtype=int64)"
      ]
     },
     "execution_count": 27,
     "metadata": {},
     "output_type": "execute_result"
    }
   ],
   "source": [
    "IndividualLevelIndexBuilder.family_data.F120.unique()"
   ]
  },
  {
   "cell_type": "code",
   "execution_count": 28,
   "id": "8c0ef5f8",
   "metadata": {},
   "outputs": [
    {
     "data": {
      "text/plain": [
       "array([ 1,  6,  3,  4,  2,  5,  8, 10,  7,  9, -1, -2, -4, -5],\n",
       "      dtype=int64)"
      ]
     },
     "execution_count": 28,
     "metadata": {},
     "output_type": "execute_result"
    }
   ],
   "source": [
    "IndividualLevelIndexBuilder.family_data.F121.unique()"
   ]
  },
  {
   "cell_type": "markdown",
   "id": "fb79f254",
   "metadata": {},
   "source": [
    "#### Ethnicity data"
   ]
  },
  {
   "cell_type": "code",
   "execution_count": 32,
   "id": "df23e81e",
   "metadata": {
    "scrolled": true
   },
   "outputs": [
    {
     "data": {
      "text/html": [
       "<div>\n",
       "<style scoped>\n",
       "    .dataframe tbody tr th:only-of-type {\n",
       "        vertical-align: middle;\n",
       "    }\n",
       "\n",
       "    .dataframe tbody tr th {\n",
       "        vertical-align: top;\n",
       "    }\n",
       "\n",
       "    .dataframe thead th {\n",
       "        text-align: right;\n",
       "    }\n",
       "</style>\n",
       "<table border=\"1\" class=\"dataframe\">\n",
       "  <thead>\n",
       "    <tr style=\"text-align: right;\">\n",
       "      <th></th>\n",
       "      <th>A124_02</th>\n",
       "      <th>A124_06</th>\n",
       "      <th>C002</th>\n",
       "    </tr>\n",
       "  </thead>\n",
       "  <tbody>\n",
       "    <tr>\n",
       "      <th>0</th>\n",
       "      <td>1</td>\n",
       "      <td>0</td>\n",
       "      <td>1</td>\n",
       "    </tr>\n",
       "    <tr>\n",
       "      <th>1</th>\n",
       "      <td>0</td>\n",
       "      <td>0</td>\n",
       "      <td>1</td>\n",
       "    </tr>\n",
       "    <tr>\n",
       "      <th>2</th>\n",
       "      <td>0</td>\n",
       "      <td>0</td>\n",
       "      <td>1</td>\n",
       "    </tr>\n",
       "    <tr>\n",
       "      <th>3</th>\n",
       "      <td>0</td>\n",
       "      <td>0</td>\n",
       "      <td>3</td>\n",
       "    </tr>\n",
       "    <tr>\n",
       "      <th>4</th>\n",
       "      <td>1</td>\n",
       "      <td>1</td>\n",
       "      <td>1</td>\n",
       "    </tr>\n",
       "    <tr>\n",
       "      <th>...</th>\n",
       "      <td>...</td>\n",
       "      <td>...</td>\n",
       "      <td>...</td>\n",
       "    </tr>\n",
       "    <tr>\n",
       "      <th>675298</th>\n",
       "      <td>0</td>\n",
       "      <td>0</td>\n",
       "      <td>1</td>\n",
       "    </tr>\n",
       "    <tr>\n",
       "      <th>675299</th>\n",
       "      <td>0</td>\n",
       "      <td>0</td>\n",
       "      <td>1</td>\n",
       "    </tr>\n",
       "    <tr>\n",
       "      <th>675300</th>\n",
       "      <td>1</td>\n",
       "      <td>1</td>\n",
       "      <td>1</td>\n",
       "    </tr>\n",
       "    <tr>\n",
       "      <th>675301</th>\n",
       "      <td>0</td>\n",
       "      <td>1</td>\n",
       "      <td>1</td>\n",
       "    </tr>\n",
       "    <tr>\n",
       "      <th>675302</th>\n",
       "      <td>0</td>\n",
       "      <td>1</td>\n",
       "      <td>1</td>\n",
       "    </tr>\n",
       "  </tbody>\n",
       "</table>\n",
       "<p>675303 rows × 3 columns</p>\n",
       "</div>"
      ],
      "text/plain": [
       "        A124_02  A124_06  C002\n",
       "0             1        0     1\n",
       "1             0        0     1\n",
       "2             0        0     1\n",
       "3             0        0     3\n",
       "4             1        1     1\n",
       "...         ...      ...   ...\n",
       "675298        0        0     1\n",
       "675299        0        0     1\n",
       "675300        1        1     1\n",
       "675301        0        1     1\n",
       "675302        0        1     1\n",
       "\n",
       "[675303 rows x 3 columns]"
      ]
     },
     "execution_count": 32,
     "metadata": {},
     "output_type": "execute_result"
    }
   ],
   "source": [
    "IndividualLevelIndexBuilder.ethnicity_data"
   ]
  },
  {
   "cell_type": "code",
   "execution_count": 29,
   "id": "94873416",
   "metadata": {},
   "outputs": [
    {
     "data": {
      "text/plain": [
       "array([ 1,  0, -1, -2, -4, -5], dtype=int64)"
      ]
     },
     "execution_count": 29,
     "metadata": {},
     "output_type": "execute_result"
    }
   ],
   "source": [
    "IndividualLevelIndexBuilder.ethnicity_data.A124_02.unique()"
   ]
  },
  {
   "cell_type": "code",
   "execution_count": 30,
   "id": "7cc9cfa8",
   "metadata": {},
   "outputs": [
    {
     "data": {
      "text/plain": [
       "array([ 0,  1, -1, -2, -4, -5], dtype=int64)"
      ]
     },
     "execution_count": 30,
     "metadata": {},
     "output_type": "execute_result"
    }
   ],
   "source": [
    "IndividualLevelIndexBuilder.ethnicity_data.A124_06.unique()"
   ]
  },
  {
   "cell_type": "code",
   "execution_count": 31,
   "id": "06bc7f3a",
   "metadata": {},
   "outputs": [
    {
     "data": {
      "text/plain": [
       "array([ 1,  3,  2, -1, -4, -2, -5], dtype=int64)"
      ]
     },
     "execution_count": 31,
     "metadata": {},
     "output_type": "execute_result"
    }
   ],
   "source": [
    "IndividualLevelIndexBuilder.ethnicity_data.C002.unique()"
   ]
  },
  {
   "cell_type": "markdown",
   "id": "e138eb32",
   "metadata": {},
   "source": [
    "#### Gender data"
   ]
  },
  {
   "cell_type": "code",
   "execution_count": 33,
   "id": "1b6ef077",
   "metadata": {
    "scrolled": true
   },
   "outputs": [
    {
     "data": {
      "text/html": [
       "<div>\n",
       "<style scoped>\n",
       "    .dataframe tbody tr th:only-of-type {\n",
       "        vertical-align: middle;\n",
       "    }\n",
       "\n",
       "    .dataframe tbody tr th {\n",
       "        vertical-align: top;\n",
       "    }\n",
       "\n",
       "    .dataframe thead th {\n",
       "        text-align: right;\n",
       "    }\n",
       "</style>\n",
       "<table border=\"1\" class=\"dataframe\">\n",
       "  <thead>\n",
       "    <tr style=\"text-align: right;\">\n",
       "      <th></th>\n",
       "      <th>D059</th>\n",
       "      <th>C001</th>\n",
       "      <th>D060</th>\n",
       "    </tr>\n",
       "  </thead>\n",
       "  <tbody>\n",
       "    <tr>\n",
       "      <th>0</th>\n",
       "      <td>2</td>\n",
       "      <td>3</td>\n",
       "      <td>3</td>\n",
       "    </tr>\n",
       "    <tr>\n",
       "      <th>1</th>\n",
       "      <td>-1</td>\n",
       "      <td>1</td>\n",
       "      <td>-1</td>\n",
       "    </tr>\n",
       "    <tr>\n",
       "      <th>2</th>\n",
       "      <td>-1</td>\n",
       "      <td>1</td>\n",
       "      <td>-1</td>\n",
       "    </tr>\n",
       "    <tr>\n",
       "      <th>3</th>\n",
       "      <td>3</td>\n",
       "      <td>2</td>\n",
       "      <td>4</td>\n",
       "    </tr>\n",
       "    <tr>\n",
       "      <th>4</th>\n",
       "      <td>1</td>\n",
       "      <td>1</td>\n",
       "      <td>1</td>\n",
       "    </tr>\n",
       "    <tr>\n",
       "      <th>...</th>\n",
       "      <td>...</td>\n",
       "      <td>...</td>\n",
       "      <td>...</td>\n",
       "    </tr>\n",
       "    <tr>\n",
       "      <th>675298</th>\n",
       "      <td>-4</td>\n",
       "      <td>2</td>\n",
       "      <td>-4</td>\n",
       "    </tr>\n",
       "    <tr>\n",
       "      <th>675299</th>\n",
       "      <td>-4</td>\n",
       "      <td>2</td>\n",
       "      <td>-4</td>\n",
       "    </tr>\n",
       "    <tr>\n",
       "      <th>675300</th>\n",
       "      <td>-4</td>\n",
       "      <td>2</td>\n",
       "      <td>-4</td>\n",
       "    </tr>\n",
       "    <tr>\n",
       "      <th>675301</th>\n",
       "      <td>-4</td>\n",
       "      <td>2</td>\n",
       "      <td>-4</td>\n",
       "    </tr>\n",
       "    <tr>\n",
       "      <th>675302</th>\n",
       "      <td>-4</td>\n",
       "      <td>2</td>\n",
       "      <td>-4</td>\n",
       "    </tr>\n",
       "  </tbody>\n",
       "</table>\n",
       "<p>675303 rows × 3 columns</p>\n",
       "</div>"
      ],
      "text/plain": [
       "        D059  C001  D060\n",
       "0          2     3     3\n",
       "1         -1     1    -1\n",
       "2         -1     1    -1\n",
       "3          3     2     4\n",
       "4          1     1     1\n",
       "...      ...   ...   ...\n",
       "675298    -4     2    -4\n",
       "675299    -4     2    -4\n",
       "675300    -4     2    -4\n",
       "675301    -4     2    -4\n",
       "675302    -4     2    -4\n",
       "\n",
       "[675303 rows x 3 columns]"
      ]
     },
     "execution_count": 33,
     "metadata": {},
     "output_type": "execute_result"
    }
   ],
   "source": [
    "IndividualLevelIndexBuilder.gender_data"
   ]
  },
  {
   "cell_type": "code",
   "execution_count": 34,
   "id": "9ba32ab5",
   "metadata": {},
   "outputs": [
    {
     "data": {
      "text/plain": [
       "array([ 2, -1,  3,  1,  4, -2, -4, -5], dtype=int64)"
      ]
     },
     "execution_count": 34,
     "metadata": {},
     "output_type": "execute_result"
    }
   ],
   "source": [
    "IndividualLevelIndexBuilder.gender_data.D059.unique()"
   ]
  },
  {
   "cell_type": "code",
   "execution_count": 35,
   "id": "54834fad",
   "metadata": {},
   "outputs": [
    {
     "data": {
      "text/plain": [
       "array([ 3,  1,  2, -1, -2, -4, -5], dtype=int64)"
      ]
     },
     "execution_count": 35,
     "metadata": {},
     "output_type": "execute_result"
    }
   ],
   "source": [
    "IndividualLevelIndexBuilder.gender_data.C001.unique()"
   ]
  },
  {
   "cell_type": "code",
   "execution_count": 36,
   "id": "983d96fd",
   "metadata": {},
   "outputs": [
    {
     "data": {
      "text/plain": [
       "array([ 3, -1,  4,  1,  2, -2, -4, -5], dtype=int64)"
      ]
     },
     "execution_count": 36,
     "metadata": {},
     "output_type": "execute_result"
    }
   ],
   "source": [
    "IndividualLevelIndexBuilder.gender_data.D060.unique()"
   ]
  },
  {
   "cell_type": "markdown",
   "id": "048b186a",
   "metadata": {},
   "source": [
    "#### Nationalism data"
   ]
  },
  {
   "cell_type": "code",
   "execution_count": 37,
   "id": "07ea0b5d",
   "metadata": {
    "scrolled": true
   },
   "outputs": [
    {
     "data": {
      "text/html": [
       "<div>\n",
       "<style scoped>\n",
       "    .dataframe tbody tr th:only-of-type {\n",
       "        vertical-align: middle;\n",
       "    }\n",
       "\n",
       "    .dataframe tbody tr th {\n",
       "        vertical-align: top;\n",
       "    }\n",
       "\n",
       "    .dataframe thead th {\n",
       "        text-align: right;\n",
       "    }\n",
       "</style>\n",
       "<table border=\"1\" class=\"dataframe\">\n",
       "  <thead>\n",
       "    <tr style=\"text-align: right;\">\n",
       "      <th></th>\n",
       "      <th>E012</th>\n",
       "      <th>G006</th>\n",
       "    </tr>\n",
       "  </thead>\n",
       "  <tbody>\n",
       "    <tr>\n",
       "      <th>0</th>\n",
       "      <td>0</td>\n",
       "      <td>2</td>\n",
       "    </tr>\n",
       "    <tr>\n",
       "      <th>1</th>\n",
       "      <td>-1</td>\n",
       "      <td>2</td>\n",
       "    </tr>\n",
       "    <tr>\n",
       "      <th>2</th>\n",
       "      <td>-1</td>\n",
       "      <td>1</td>\n",
       "    </tr>\n",
       "    <tr>\n",
       "      <th>3</th>\n",
       "      <td>0</td>\n",
       "      <td>3</td>\n",
       "    </tr>\n",
       "    <tr>\n",
       "      <th>4</th>\n",
       "      <td>1</td>\n",
       "      <td>1</td>\n",
       "    </tr>\n",
       "    <tr>\n",
       "      <th>...</th>\n",
       "      <td>...</td>\n",
       "      <td>...</td>\n",
       "    </tr>\n",
       "    <tr>\n",
       "      <th>675298</th>\n",
       "      <td>-4</td>\n",
       "      <td>-3</td>\n",
       "    </tr>\n",
       "    <tr>\n",
       "      <th>675299</th>\n",
       "      <td>-4</td>\n",
       "      <td>-3</td>\n",
       "    </tr>\n",
       "    <tr>\n",
       "      <th>675300</th>\n",
       "      <td>-4</td>\n",
       "      <td>-3</td>\n",
       "    </tr>\n",
       "    <tr>\n",
       "      <th>675301</th>\n",
       "      <td>-4</td>\n",
       "      <td>-3</td>\n",
       "    </tr>\n",
       "    <tr>\n",
       "      <th>675302</th>\n",
       "      <td>-4</td>\n",
       "      <td>-3</td>\n",
       "    </tr>\n",
       "  </tbody>\n",
       "</table>\n",
       "<p>675303 rows × 2 columns</p>\n",
       "</div>"
      ],
      "text/plain": [
       "        E012  G006\n",
       "0          0     2\n",
       "1         -1     2\n",
       "2         -1     1\n",
       "3          0     3\n",
       "4          1     1\n",
       "...      ...   ...\n",
       "675298    -4    -3\n",
       "675299    -4    -3\n",
       "675300    -4    -3\n",
       "675301    -4    -3\n",
       "675302    -4    -3\n",
       "\n",
       "[675303 rows x 2 columns]"
      ]
     },
     "execution_count": 37,
     "metadata": {},
     "output_type": "execute_result"
    }
   ],
   "source": [
    "IndividualLevelIndexBuilder.nationalism_data"
   ]
  },
  {
   "cell_type": "code",
   "execution_count": 38,
   "id": "db75d87a",
   "metadata": {},
   "outputs": [
    {
     "data": {
      "text/plain": [
       "array([ 0, -1,  1, -4, -2, -3, -5], dtype=int64)"
      ]
     },
     "execution_count": 38,
     "metadata": {},
     "output_type": "execute_result"
    }
   ],
   "source": [
    "IndividualLevelIndexBuilder.nationalism_data.E012.unique()"
   ]
  },
  {
   "cell_type": "code",
   "execution_count": 39,
   "id": "dc18b463",
   "metadata": {},
   "outputs": [
    {
     "data": {
      "text/plain": [
       "array([ 2,  1,  3, -1, -3,  4, -2, -5, -4], dtype=int64)"
      ]
     },
     "execution_count": 39,
     "metadata": {},
     "output_type": "execute_result"
    }
   ],
   "source": [
    "IndividualLevelIndexBuilder.nationalism_data.G006.unique()"
   ]
  },
  {
   "cell_type": "markdown",
   "id": "6e26f475",
   "metadata": {},
   "source": [
    "#### Religiosity data"
   ]
  },
  {
   "cell_type": "code",
   "execution_count": 40,
   "id": "164a6b28",
   "metadata": {
    "scrolled": true
   },
   "outputs": [
    {
     "data": {
      "text/html": [
       "<div>\n",
       "<style scoped>\n",
       "    .dataframe tbody tr th:only-of-type {\n",
       "        vertical-align: middle;\n",
       "    }\n",
       "\n",
       "    .dataframe tbody tr th {\n",
       "        vertical-align: top;\n",
       "    }\n",
       "\n",
       "    .dataframe thead th {\n",
       "        text-align: right;\n",
       "    }\n",
       "</style>\n",
       "<table border=\"1\" class=\"dataframe\">\n",
       "  <thead>\n",
       "    <tr style=\"text-align: right;\">\n",
       "      <th></th>\n",
       "      <th>A006</th>\n",
       "      <th>A040</th>\n",
       "      <th>F063</th>\n",
       "      <th>F028</th>\n",
       "      <th>F034</th>\n",
       "    </tr>\n",
       "  </thead>\n",
       "  <tbody>\n",
       "    <tr>\n",
       "      <th>0</th>\n",
       "      <td>2</td>\n",
       "      <td>0</td>\n",
       "      <td>10</td>\n",
       "      <td>8</td>\n",
       "      <td>1</td>\n",
       "    </tr>\n",
       "    <tr>\n",
       "      <th>1</th>\n",
       "      <td>3</td>\n",
       "      <td>0</td>\n",
       "      <td>5</td>\n",
       "      <td>4</td>\n",
       "      <td>1</td>\n",
       "    </tr>\n",
       "    <tr>\n",
       "      <th>2</th>\n",
       "      <td>2</td>\n",
       "      <td>0</td>\n",
       "      <td>6</td>\n",
       "      <td>6</td>\n",
       "      <td>1</td>\n",
       "    </tr>\n",
       "    <tr>\n",
       "      <th>3</th>\n",
       "      <td>4</td>\n",
       "      <td>0</td>\n",
       "      <td>8</td>\n",
       "      <td>8</td>\n",
       "      <td>3</td>\n",
       "    </tr>\n",
       "    <tr>\n",
       "      <th>4</th>\n",
       "      <td>3</td>\n",
       "      <td>0</td>\n",
       "      <td>10</td>\n",
       "      <td>8</td>\n",
       "      <td>1</td>\n",
       "    </tr>\n",
       "    <tr>\n",
       "      <th>...</th>\n",
       "      <td>...</td>\n",
       "      <td>...</td>\n",
       "      <td>...</td>\n",
       "      <td>...</td>\n",
       "      <td>...</td>\n",
       "    </tr>\n",
       "    <tr>\n",
       "      <th>675298</th>\n",
       "      <td>1</td>\n",
       "      <td>1</td>\n",
       "      <td>10</td>\n",
       "      <td>4</td>\n",
       "      <td>1</td>\n",
       "    </tr>\n",
       "    <tr>\n",
       "      <th>675299</th>\n",
       "      <td>1</td>\n",
       "      <td>1</td>\n",
       "      <td>10</td>\n",
       "      <td>4</td>\n",
       "      <td>1</td>\n",
       "    </tr>\n",
       "    <tr>\n",
       "      <th>675300</th>\n",
       "      <td>1</td>\n",
       "      <td>1</td>\n",
       "      <td>10</td>\n",
       "      <td>1</td>\n",
       "      <td>1</td>\n",
       "    </tr>\n",
       "    <tr>\n",
       "      <th>675301</th>\n",
       "      <td>1</td>\n",
       "      <td>0</td>\n",
       "      <td>10</td>\n",
       "      <td>4</td>\n",
       "      <td>1</td>\n",
       "    </tr>\n",
       "    <tr>\n",
       "      <th>675302</th>\n",
       "      <td>1</td>\n",
       "      <td>1</td>\n",
       "      <td>10</td>\n",
       "      <td>4</td>\n",
       "      <td>1</td>\n",
       "    </tr>\n",
       "  </tbody>\n",
       "</table>\n",
       "<p>675303 rows × 5 columns</p>\n",
       "</div>"
      ],
      "text/plain": [
       "        A006  A040  F063  F028  F034\n",
       "0          2     0    10     8     1\n",
       "1          3     0     5     4     1\n",
       "2          2     0     6     6     1\n",
       "3          4     0     8     8     3\n",
       "4          3     0    10     8     1\n",
       "...      ...   ...   ...   ...   ...\n",
       "675298     1     1    10     4     1\n",
       "675299     1     1    10     4     1\n",
       "675300     1     1    10     1     1\n",
       "675301     1     0    10     4     1\n",
       "675302     1     1    10     4     1\n",
       "\n",
       "[675303 rows x 5 columns]"
      ]
     },
     "execution_count": 40,
     "metadata": {},
     "output_type": "execute_result"
    }
   ],
   "source": [
    "IndividualLevelIndexBuilder.religiosity_data"
   ]
  },
  {
   "cell_type": "code",
   "execution_count": 41,
   "id": "c132b32f",
   "metadata": {},
   "outputs": [
    {
     "data": {
      "text/plain": [
       "array([ 2,  3,  4,  1, -1, -2, -4, -5, -3], dtype=int64)"
      ]
     },
     "execution_count": 41,
     "metadata": {},
     "output_type": "execute_result"
    }
   ],
   "source": [
    "IndividualLevelIndexBuilder.religiosity_data.A006.unique()"
   ]
  },
  {
   "cell_type": "code",
   "execution_count": 42,
   "id": "8d773a1d",
   "metadata": {},
   "outputs": [
    {
     "data": {
      "text/plain": [
       "array([ 0,  1, -2, -1, -4, -5], dtype=int64)"
      ]
     },
     "execution_count": 42,
     "metadata": {},
     "output_type": "execute_result"
    }
   ],
   "source": [
    "IndividualLevelIndexBuilder.religiosity_data.A040.unique()"
   ]
  },
  {
   "cell_type": "code",
   "execution_count": 43,
   "id": "bab679a2",
   "metadata": {},
   "outputs": [
    {
     "data": {
      "text/plain": [
       "array([10,  5,  6,  8,  4,  7,  1, -1,  9,  3,  2, -2, -4], dtype=int64)"
      ]
     },
     "execution_count": 43,
     "metadata": {},
     "output_type": "execute_result"
    }
   ],
   "source": [
    "IndividualLevelIndexBuilder.religiosity_data.F063.unique()"
   ]
  },
  {
   "cell_type": "code",
   "execution_count": 44,
   "id": "583f9995",
   "metadata": {},
   "outputs": [
    {
     "data": {
      "text/plain": [
       "array([ 8,  4,  6,  7,  2,  3,  1, -1, -2,  5, -3, -4, -5], dtype=int64)"
      ]
     },
     "execution_count": 44,
     "metadata": {},
     "output_type": "execute_result"
    }
   ],
   "source": [
    "IndividualLevelIndexBuilder.religiosity_data.F028.unique()"
   ]
  },
  {
   "cell_type": "code",
   "execution_count": 45,
   "id": "16962430",
   "metadata": {},
   "outputs": [
    {
     "data": {
      "text/plain": [
       "array([ 1,  3,  2, -1, -2, -4, -5], dtype=int64)"
      ]
     },
     "execution_count": 45,
     "metadata": {},
     "output_type": "execute_result"
    }
   ],
   "source": [
    "IndividualLevelIndexBuilder.religiosity_data.F034.unique()"
   ]
  },
  {
   "cell_type": "markdown",
   "id": "dcf3aab0",
   "metadata": {},
   "source": [
    "#### Demographics data"
   ]
  },
  {
   "cell_type": "code",
   "execution_count": 46,
   "id": "25ef3988",
   "metadata": {
    "scrolled": true
   },
   "outputs": [
    {
     "data": {
      "text/html": [
       "<div>\n",
       "<style scoped>\n",
       "    .dataframe tbody tr th:only-of-type {\n",
       "        vertical-align: middle;\n",
       "    }\n",
       "\n",
       "    .dataframe tbody tr th {\n",
       "        vertical-align: top;\n",
       "    }\n",
       "\n",
       "    .dataframe thead th {\n",
       "        text-align: right;\n",
       "    }\n",
       "</style>\n",
       "<table border=\"1\" class=\"dataframe\">\n",
       "  <thead>\n",
       "    <tr style=\"text-align: right;\">\n",
       "      <th></th>\n",
       "      <th>S003</th>\n",
       "      <th>X001</th>\n",
       "      <th>X003</th>\n",
       "      <th>X025</th>\n",
       "      <th>X045</th>\n",
       "      <th>X047_IVS</th>\n",
       "      <th>X049</th>\n",
       "    </tr>\n",
       "  </thead>\n",
       "  <tbody>\n",
       "    <tr>\n",
       "      <th>0</th>\n",
       "      <td>8</td>\n",
       "      <td>2</td>\n",
       "      <td>18</td>\n",
       "      <td>6</td>\n",
       "      <td>-1</td>\n",
       "      <td>3</td>\n",
       "      <td>3</td>\n",
       "    </tr>\n",
       "    <tr>\n",
       "      <th>1</th>\n",
       "      <td>8</td>\n",
       "      <td>1</td>\n",
       "      <td>28</td>\n",
       "      <td>4</td>\n",
       "      <td>4</td>\n",
       "      <td>6</td>\n",
       "      <td>1</td>\n",
       "    </tr>\n",
       "    <tr>\n",
       "      <th>2</th>\n",
       "      <td>8</td>\n",
       "      <td>1</td>\n",
       "      <td>67</td>\n",
       "      <td>-3</td>\n",
       "      <td>4</td>\n",
       "      <td>7</td>\n",
       "      <td>1</td>\n",
       "    </tr>\n",
       "    <tr>\n",
       "      <th>3</th>\n",
       "      <td>8</td>\n",
       "      <td>2</td>\n",
       "      <td>33</td>\n",
       "      <td>7</td>\n",
       "      <td>2</td>\n",
       "      <td>9</td>\n",
       "      <td>4</td>\n",
       "    </tr>\n",
       "    <tr>\n",
       "      <th>4</th>\n",
       "      <td>8</td>\n",
       "      <td>1</td>\n",
       "      <td>38</td>\n",
       "      <td>6</td>\n",
       "      <td>5</td>\n",
       "      <td>3</td>\n",
       "      <td>4</td>\n",
       "    </tr>\n",
       "    <tr>\n",
       "      <th>...</th>\n",
       "      <td>...</td>\n",
       "      <td>...</td>\n",
       "      <td>...</td>\n",
       "      <td>...</td>\n",
       "      <td>...</td>\n",
       "      <td>...</td>\n",
       "      <td>...</td>\n",
       "    </tr>\n",
       "    <tr>\n",
       "      <th>675298</th>\n",
       "      <td>915</td>\n",
       "      <td>2</td>\n",
       "      <td>24</td>\n",
       "      <td>5</td>\n",
       "      <td>-4</td>\n",
       "      <td>6</td>\n",
       "      <td>-5</td>\n",
       "    </tr>\n",
       "    <tr>\n",
       "      <th>675299</th>\n",
       "      <td>915</td>\n",
       "      <td>1</td>\n",
       "      <td>50</td>\n",
       "      <td>5</td>\n",
       "      <td>-4</td>\n",
       "      <td>4</td>\n",
       "      <td>-5</td>\n",
       "    </tr>\n",
       "    <tr>\n",
       "      <th>675300</th>\n",
       "      <td>915</td>\n",
       "      <td>2</td>\n",
       "      <td>23</td>\n",
       "      <td>5</td>\n",
       "      <td>-4</td>\n",
       "      <td>10</td>\n",
       "      <td>-5</td>\n",
       "    </tr>\n",
       "    <tr>\n",
       "      <th>675301</th>\n",
       "      <td>915</td>\n",
       "      <td>2</td>\n",
       "      <td>34</td>\n",
       "      <td>4</td>\n",
       "      <td>-4</td>\n",
       "      <td>9</td>\n",
       "      <td>-5</td>\n",
       "    </tr>\n",
       "    <tr>\n",
       "      <th>675302</th>\n",
       "      <td>915</td>\n",
       "      <td>1</td>\n",
       "      <td>51</td>\n",
       "      <td>6</td>\n",
       "      <td>-4</td>\n",
       "      <td>5</td>\n",
       "      <td>-5</td>\n",
       "    </tr>\n",
       "  </tbody>\n",
       "</table>\n",
       "<p>675303 rows × 7 columns</p>\n",
       "</div>"
      ],
      "text/plain": [
       "        S003  X001  X003  X025  X045  X047_IVS  X049\n",
       "0          8     2    18     6    -1         3     3\n",
       "1          8     1    28     4     4         6     1\n",
       "2          8     1    67    -3     4         7     1\n",
       "3          8     2    33     7     2         9     4\n",
       "4          8     1    38     6     5         3     4\n",
       "...      ...   ...   ...   ...   ...       ...   ...\n",
       "675298   915     2    24     5    -4         6    -5\n",
       "675299   915     1    50     5    -4         4    -5\n",
       "675300   915     2    23     5    -4        10    -5\n",
       "675301   915     2    34     4    -4         9    -5\n",
       "675302   915     1    51     6    -4         5    -5\n",
       "\n",
       "[675303 rows x 7 columns]"
      ]
     },
     "execution_count": 46,
     "metadata": {},
     "output_type": "execute_result"
    }
   ],
   "source": [
    "IndividualLevelIndexBuilder.demographics_data"
   ]
  },
  {
   "cell_type": "code",
   "execution_count": 47,
   "id": "28cc12d7",
   "metadata": {
    "scrolled": false
   },
   "outputs": [
    {
     "data": {
      "text/plain": [
       "array([  8,  12,  20,  31,  32,  36,  50,  51,  68,  70,  76, 100, 104,\n",
       "       112, 124, 152, 156, 158, 170, 191, 196, 203, 214, 218, 222, 231,\n",
       "       233, 246, 250, 268, 275, 276, 288, 300, 320, 332, 344, 348, 356,\n",
       "       360, 364, 368, 376, 380, 392, 398, 400, 404, 410, 414, 417, 422,\n",
       "       428, 434, 440, 446, 458, 462, 466, 484, 496, 498, 499, 504, 528,\n",
       "       554, 558, 566, 578, 586, 604, 608, 616, 630, 634, 642, 643, 646,\n",
       "       682, 688, 702, 703, 704, 705, 710, 716, 724, 752, 756, 762, 764,\n",
       "       780, 788, 792, 800, 804, 807, 818, 826, 834, 840, 854, 858, 860,\n",
       "       862, 887, 894, 909,  40,  56, 197, 208, 352, 372, 442, 470, 620,\n",
       "       915], dtype=int64)"
      ]
     },
     "execution_count": 47,
     "metadata": {},
     "output_type": "execute_result"
    }
   ],
   "source": [
    "IndividualLevelIndexBuilder.demographics_data.S003.unique()"
   ]
  },
  {
   "cell_type": "code",
   "execution_count": 48,
   "id": "b4d23e81",
   "metadata": {},
   "outputs": [
    {
     "data": {
      "text/plain": [
       "array([ 2,  1, -1, -2, -5, -4], dtype=int64)"
      ]
     },
     "execution_count": 48,
     "metadata": {},
     "output_type": "execute_result"
    }
   ],
   "source": [
    "IndividualLevelIndexBuilder.demographics_data.X001.unique()"
   ]
  },
  {
   "cell_type": "code",
   "execution_count": 49,
   "id": "08b535c3",
   "metadata": {
    "scrolled": true
   },
   "outputs": [
    {
     "data": {
      "text/plain": [
       "array([ 18,  28,  67,  33,  38,  70,  19,  26,  61,  45,  76,  43,  65,\n",
       "        57,  58,  49,  39,  66,  74,  40,  34,  44,  30,  55,  64,  36,\n",
       "        37,  50,  54,  29,  42,  41,  53,  24,  21,  46,  23,  56,  20,\n",
       "        52,  22,  32,  31,  47,  60,  71,  25,  72,  27,  35,  51,  62,\n",
       "        48,  73,  63,  59,  79,  69,  68,  75,  81,  17,  80,  78,  77,\n",
       "        -2,  82,  88,  87,  84,  86,  83,  90,  85,  89,  16,  91,  92,\n",
       "        93,  94,  95,  15,  14,  98,  -5,  99,  97,  -1,  -4,  96, 102,\n",
       "        13, 100, 103,  -3, 101, 108], dtype=int64)"
      ]
     },
     "execution_count": 49,
     "metadata": {},
     "output_type": "execute_result"
    }
   ],
   "source": [
    "IndividualLevelIndexBuilder.demographics_data.X003.unique()"
   ]
  },
  {
   "cell_type": "code",
   "execution_count": 50,
   "id": "4babdad2",
   "metadata": {},
   "outputs": [
    {
     "data": {
      "text/plain": [
       "array([ 6,  4, -3,  7,  2,  1,  8,  3,  5, -2, -1, -4, -5], dtype=int64)"
      ]
     },
     "execution_count": 50,
     "metadata": {},
     "output_type": "execute_result"
    }
   ],
   "source": [
    "IndividualLevelIndexBuilder.demographics_data.X025.unique()"
   ]
  },
  {
   "cell_type": "code",
   "execution_count": 51,
   "id": "565a5f44",
   "metadata": {},
   "outputs": [
    {
     "data": {
      "text/plain": [
       "array([-1,  4,  2,  5,  3,  1, -2, -4, -3, -5], dtype=int64)"
      ]
     },
     "execution_count": 51,
     "metadata": {},
     "output_type": "execute_result"
    }
   ],
   "source": [
    "IndividualLevelIndexBuilder.demographics_data.X045.unique()"
   ]
  },
  {
   "cell_type": "code",
   "execution_count": 52,
   "id": "eeac0744",
   "metadata": {},
   "outputs": [
    {
     "data": {
      "text/plain": [
       "array([ 3,  6,  7,  9,  5,  4,  1,  8,  2, 10, -1, -2, -4, -5, 11, -3],\n",
       "      dtype=int64)"
      ]
     },
     "execution_count": 52,
     "metadata": {},
     "output_type": "execute_result"
    }
   ],
   "source": [
    "IndividualLevelIndexBuilder.demographics_data.X047_IVS.unique()"
   ]
  },
  {
   "cell_type": "code",
   "execution_count": 53,
   "id": "d94a6be0",
   "metadata": {},
   "outputs": [
    {
     "data": {
      "text/plain": [
       "array([ 3,  1,  4,  7,  2,  5,  8,  6, -1, -4, -2, -5], dtype=int64)"
      ]
     },
     "execution_count": 53,
     "metadata": {},
     "output_type": "execute_result"
    }
   ],
   "source": [
    "IndividualLevelIndexBuilder.demographics_data.X049.unique()"
   ]
  },
  {
   "cell_type": "markdown",
   "id": "49c5a7eb",
   "metadata": {},
   "source": [
    "## The index_frame() method"
   ]
  },
  {
   "cell_type": "code",
   "execution_count": 65,
   "id": "cd52beb7",
   "metadata": {
    "scrolled": true
   },
   "outputs": [
    {
     "data": {
      "text/html": [
       "<div>\n",
       "<style scoped>\n",
       "    .dataframe tbody tr th:only-of-type {\n",
       "        vertical-align: middle;\n",
       "    }\n",
       "\n",
       "    .dataframe tbody tr th {\n",
       "        vertical-align: top;\n",
       "    }\n",
       "\n",
       "    .dataframe thead th {\n",
       "        text-align: right;\n",
       "    }\n",
       "</style>\n",
       "<table border=\"1\" class=\"dataframe\">\n",
       "  <thead>\n",
       "    <tr style=\"text-align: right;\">\n",
       "      <th></th>\n",
       "      <th>country</th>\n",
       "      <th>gender</th>\n",
       "      <th>education</th>\n",
       "      <th>social_class</th>\n",
       "      <th>income</th>\n",
       "      <th>urban</th>\n",
       "      <th>freedom_index</th>\n",
       "      <th>socialism_index</th>\n",
       "      <th>family_index</th>\n",
       "      <th>ethnicity_index</th>\n",
       "      <th>gender_index</th>\n",
       "      <th>nationalism_index</th>\n",
       "      <th>religiosity_index</th>\n",
       "    </tr>\n",
       "  </thead>\n",
       "  <tbody>\n",
       "    <tr>\n",
       "      <th>0</th>\n",
       "      <td>8</td>\n",
       "      <td>1.0</td>\n",
       "      <td>1.0</td>\n",
       "      <td>0.50</td>\n",
       "      <td>0.25</td>\n",
       "      <td>0.25</td>\n",
       "      <td>0.42</td>\n",
       "      <td>0.38</td>\n",
       "      <td>0.25</td>\n",
       "      <td>0.33</td>\n",
       "      <td>0.50</td>\n",
       "      <td>0.33</td>\n",
       "      <td>NaN</td>\n",
       "    </tr>\n",
       "    <tr>\n",
       "      <th>1</th>\n",
       "      <td>8</td>\n",
       "      <td>0.0</td>\n",
       "      <td>0.5</td>\n",
       "      <td>0.25</td>\n",
       "      <td>0.50</td>\n",
       "      <td>0.00</td>\n",
       "      <td>0.38</td>\n",
       "      <td>0.12</td>\n",
       "      <td>0.00</td>\n",
       "      <td>0.67</td>\n",
       "      <td>0.33</td>\n",
       "      <td>0.58</td>\n",
       "      <td>0.47</td>\n",
       "    </tr>\n",
       "    <tr>\n",
       "      <th>2</th>\n",
       "      <td>8</td>\n",
       "      <td>0.0</td>\n",
       "      <td>NaN</td>\n",
       "      <td>0.25</td>\n",
       "      <td>0.75</td>\n",
       "      <td>0.00</td>\n",
       "      <td>0.38</td>\n",
       "      <td>0.19</td>\n",
       "      <td>0.12</td>\n",
       "      <td>0.67</td>\n",
       "      <td>0.33</td>\n",
       "      <td>0.75</td>\n",
       "      <td>0.43</td>\n",
       "    </tr>\n",
       "    <tr>\n",
       "      <th>3</th>\n",
       "      <td>8</td>\n",
       "      <td>1.0</td>\n",
       "      <td>1.0</td>\n",
       "      <td>0.75</td>\n",
       "      <td>1.00</td>\n",
       "      <td>0.25</td>\n",
       "      <td>0.67</td>\n",
       "      <td>0.12</td>\n",
       "      <td>0.50</td>\n",
       "      <td>0.83</td>\n",
       "      <td>0.89</td>\n",
       "      <td>0.16</td>\n",
       "      <td>NaN</td>\n",
       "    </tr>\n",
       "    <tr>\n",
       "      <th>4</th>\n",
       "      <td>8</td>\n",
       "      <td>0.0</td>\n",
       "      <td>1.0</td>\n",
       "      <td>0.00</td>\n",
       "      <td>0.25</td>\n",
       "      <td>0.25</td>\n",
       "      <td>0.38</td>\n",
       "      <td>0.50</td>\n",
       "      <td>0.06</td>\n",
       "      <td>0.00</td>\n",
       "      <td>0.00</td>\n",
       "      <td>1.00</td>\n",
       "      <td>NaN</td>\n",
       "    </tr>\n",
       "    <tr>\n",
       "      <th>...</th>\n",
       "      <td>...</td>\n",
       "      <td>...</td>\n",
       "      <td>...</td>\n",
       "      <td>...</td>\n",
       "      <td>...</td>\n",
       "      <td>...</td>\n",
       "      <td>...</td>\n",
       "      <td>...</td>\n",
       "      <td>...</td>\n",
       "      <td>...</td>\n",
       "      <td>...</td>\n",
       "      <td>...</td>\n",
       "      <td>...</td>\n",
       "    </tr>\n",
       "    <tr>\n",
       "      <th>675298</th>\n",
       "      <td>915</td>\n",
       "      <td>1.0</td>\n",
       "      <td>0.5</td>\n",
       "      <td>NaN</td>\n",
       "      <td>0.50</td>\n",
       "      <td>NaN</td>\n",
       "      <td>NaN</td>\n",
       "      <td>0.56</td>\n",
       "      <td>0.19</td>\n",
       "      <td>0.67</td>\n",
       "      <td>NaN</td>\n",
       "      <td>NaN</td>\n",
       "      <td>0.90</td>\n",
       "    </tr>\n",
       "    <tr>\n",
       "      <th>675299</th>\n",
       "      <td>915</td>\n",
       "      <td>0.0</td>\n",
       "      <td>0.5</td>\n",
       "      <td>NaN</td>\n",
       "      <td>0.25</td>\n",
       "      <td>NaN</td>\n",
       "      <td>NaN</td>\n",
       "      <td>0.38</td>\n",
       "      <td>0.38</td>\n",
       "      <td>0.67</td>\n",
       "      <td>NaN</td>\n",
       "      <td>NaN</td>\n",
       "      <td>0.90</td>\n",
       "    </tr>\n",
       "    <tr>\n",
       "      <th>675300</th>\n",
       "      <td>915</td>\n",
       "      <td>1.0</td>\n",
       "      <td>0.5</td>\n",
       "      <td>NaN</td>\n",
       "      <td>1.00</td>\n",
       "      <td>NaN</td>\n",
       "      <td>NaN</td>\n",
       "      <td>0.38</td>\n",
       "      <td>0.69</td>\n",
       "      <td>0.00</td>\n",
       "      <td>NaN</td>\n",
       "      <td>NaN</td>\n",
       "      <td>1.00</td>\n",
       "    </tr>\n",
       "    <tr>\n",
       "      <th>675301</th>\n",
       "      <td>915</td>\n",
       "      <td>1.0</td>\n",
       "      <td>0.5</td>\n",
       "      <td>NaN</td>\n",
       "      <td>1.00</td>\n",
       "      <td>NaN</td>\n",
       "      <td>NaN</td>\n",
       "      <td>0.56</td>\n",
       "      <td>0.00</td>\n",
       "      <td>0.33</td>\n",
       "      <td>NaN</td>\n",
       "      <td>NaN</td>\n",
       "      <td>0.70</td>\n",
       "    </tr>\n",
       "    <tr>\n",
       "      <th>675302</th>\n",
       "      <td>915</td>\n",
       "      <td>0.0</td>\n",
       "      <td>1.0</td>\n",
       "      <td>NaN</td>\n",
       "      <td>0.50</td>\n",
       "      <td>NaN</td>\n",
       "      <td>NaN</td>\n",
       "      <td>0.69</td>\n",
       "      <td>0.12</td>\n",
       "      <td>0.33</td>\n",
       "      <td>NaN</td>\n",
       "      <td>NaN</td>\n",
       "      <td>0.90</td>\n",
       "    </tr>\n",
       "  </tbody>\n",
       "</table>\n",
       "<p>675303 rows × 13 columns</p>\n",
       "</div>"
      ],
      "text/plain": [
       "        country  gender  education  social_class  income  urban  \\\n",
       "0             8     1.0        1.0          0.50    0.25   0.25   \n",
       "1             8     0.0        0.5          0.25    0.50   0.00   \n",
       "2             8     0.0        NaN          0.25    0.75   0.00   \n",
       "3             8     1.0        1.0          0.75    1.00   0.25   \n",
       "4             8     0.0        1.0          0.00    0.25   0.25   \n",
       "...         ...     ...        ...           ...     ...    ...   \n",
       "675298      915     1.0        0.5           NaN    0.50    NaN   \n",
       "675299      915     0.0        0.5           NaN    0.25    NaN   \n",
       "675300      915     1.0        0.5           NaN    1.00    NaN   \n",
       "675301      915     1.0        0.5           NaN    1.00    NaN   \n",
       "675302      915     0.0        1.0           NaN    0.50    NaN   \n",
       "\n",
       "        freedom_index  socialism_index  family_index  ethnicity_index  \\\n",
       "0                0.42             0.38          0.25             0.33   \n",
       "1                0.38             0.12          0.00             0.67   \n",
       "2                0.38             0.19          0.12             0.67   \n",
       "3                0.67             0.12          0.50             0.83   \n",
       "4                0.38             0.50          0.06             0.00   \n",
       "...               ...              ...           ...              ...   \n",
       "675298            NaN             0.56          0.19             0.67   \n",
       "675299            NaN             0.38          0.38             0.67   \n",
       "675300            NaN             0.38          0.69             0.00   \n",
       "675301            NaN             0.56          0.00             0.33   \n",
       "675302            NaN             0.69          0.12             0.33   \n",
       "\n",
       "        gender_index  nationalism_index  religiosity_index  \n",
       "0               0.50               0.33                NaN  \n",
       "1               0.33               0.58               0.47  \n",
       "2               0.33               0.75               0.43  \n",
       "3               0.89               0.16                NaN  \n",
       "4               0.00               1.00                NaN  \n",
       "...              ...                ...                ...  \n",
       "675298           NaN                NaN               0.90  \n",
       "675299           NaN                NaN               0.90  \n",
       "675300           NaN                NaN               1.00  \n",
       "675301           NaN                NaN               0.70  \n",
       "675302           NaN                NaN               0.90  \n",
       "\n",
       "[675303 rows x 13 columns]"
      ]
     },
     "execution_count": 65,
     "metadata": {},
     "output_type": "execute_result"
    }
   ],
   "source": [
    "IndividualLevelIndexBuilder.final_frame"
   ]
  },
  {
   "cell_type": "markdown",
   "id": "c0866e70",
   "metadata": {},
   "source": [
    "## The data_saver() method"
   ]
  },
  {
   "cell_type": "code",
   "execution_count": 67,
   "id": "2b669bba",
   "metadata": {},
   "outputs": [],
   "source": [
    "saved_frame = pd.read_csv('final_frame.csv')"
   ]
  },
  {
   "cell_type": "code",
   "execution_count": 68,
   "id": "6163270f",
   "metadata": {
    "scrolled": true
   },
   "outputs": [
    {
     "data": {
      "text/html": [
       "<div>\n",
       "<style scoped>\n",
       "    .dataframe tbody tr th:only-of-type {\n",
       "        vertical-align: middle;\n",
       "    }\n",
       "\n",
       "    .dataframe tbody tr th {\n",
       "        vertical-align: top;\n",
       "    }\n",
       "\n",
       "    .dataframe thead th {\n",
       "        text-align: right;\n",
       "    }\n",
       "</style>\n",
       "<table border=\"1\" class=\"dataframe\">\n",
       "  <thead>\n",
       "    <tr style=\"text-align: right;\">\n",
       "      <th></th>\n",
       "      <th>country</th>\n",
       "      <th>gender</th>\n",
       "      <th>education</th>\n",
       "      <th>social_class</th>\n",
       "      <th>income</th>\n",
       "      <th>urban</th>\n",
       "      <th>freedom_index</th>\n",
       "      <th>socialism_index</th>\n",
       "      <th>family_index</th>\n",
       "      <th>ethnicity_index</th>\n",
       "      <th>gender_index</th>\n",
       "      <th>nationalism_index</th>\n",
       "      <th>religiosity_index</th>\n",
       "    </tr>\n",
       "  </thead>\n",
       "  <tbody>\n",
       "    <tr>\n",
       "      <th>0</th>\n",
       "      <td>8</td>\n",
       "      <td>1.0</td>\n",
       "      <td>1.0</td>\n",
       "      <td>0.50</td>\n",
       "      <td>0.25</td>\n",
       "      <td>0.25</td>\n",
       "      <td>0.42</td>\n",
       "      <td>0.38</td>\n",
       "      <td>0.25</td>\n",
       "      <td>0.33</td>\n",
       "      <td>0.50</td>\n",
       "      <td>0.33</td>\n",
       "      <td>NaN</td>\n",
       "    </tr>\n",
       "    <tr>\n",
       "      <th>1</th>\n",
       "      <td>8</td>\n",
       "      <td>0.0</td>\n",
       "      <td>0.5</td>\n",
       "      <td>0.25</td>\n",
       "      <td>0.50</td>\n",
       "      <td>0.00</td>\n",
       "      <td>0.38</td>\n",
       "      <td>0.12</td>\n",
       "      <td>0.00</td>\n",
       "      <td>0.67</td>\n",
       "      <td>0.33</td>\n",
       "      <td>0.58</td>\n",
       "      <td>0.47</td>\n",
       "    </tr>\n",
       "    <tr>\n",
       "      <th>2</th>\n",
       "      <td>8</td>\n",
       "      <td>0.0</td>\n",
       "      <td>NaN</td>\n",
       "      <td>0.25</td>\n",
       "      <td>0.75</td>\n",
       "      <td>0.00</td>\n",
       "      <td>0.38</td>\n",
       "      <td>0.19</td>\n",
       "      <td>0.12</td>\n",
       "      <td>0.67</td>\n",
       "      <td>0.33</td>\n",
       "      <td>0.75</td>\n",
       "      <td>0.43</td>\n",
       "    </tr>\n",
       "    <tr>\n",
       "      <th>3</th>\n",
       "      <td>8</td>\n",
       "      <td>1.0</td>\n",
       "      <td>1.0</td>\n",
       "      <td>0.75</td>\n",
       "      <td>1.00</td>\n",
       "      <td>0.25</td>\n",
       "      <td>0.67</td>\n",
       "      <td>0.12</td>\n",
       "      <td>0.50</td>\n",
       "      <td>0.83</td>\n",
       "      <td>0.89</td>\n",
       "      <td>0.16</td>\n",
       "      <td>NaN</td>\n",
       "    </tr>\n",
       "    <tr>\n",
       "      <th>4</th>\n",
       "      <td>8</td>\n",
       "      <td>0.0</td>\n",
       "      <td>1.0</td>\n",
       "      <td>0.00</td>\n",
       "      <td>0.25</td>\n",
       "      <td>0.25</td>\n",
       "      <td>0.38</td>\n",
       "      <td>0.50</td>\n",
       "      <td>0.06</td>\n",
       "      <td>0.00</td>\n",
       "      <td>0.00</td>\n",
       "      <td>1.00</td>\n",
       "      <td>NaN</td>\n",
       "    </tr>\n",
       "    <tr>\n",
       "      <th>...</th>\n",
       "      <td>...</td>\n",
       "      <td>...</td>\n",
       "      <td>...</td>\n",
       "      <td>...</td>\n",
       "      <td>...</td>\n",
       "      <td>...</td>\n",
       "      <td>...</td>\n",
       "      <td>...</td>\n",
       "      <td>...</td>\n",
       "      <td>...</td>\n",
       "      <td>...</td>\n",
       "      <td>...</td>\n",
       "      <td>...</td>\n",
       "    </tr>\n",
       "    <tr>\n",
       "      <th>675298</th>\n",
       "      <td>915</td>\n",
       "      <td>1.0</td>\n",
       "      <td>0.5</td>\n",
       "      <td>NaN</td>\n",
       "      <td>0.50</td>\n",
       "      <td>NaN</td>\n",
       "      <td>NaN</td>\n",
       "      <td>0.56</td>\n",
       "      <td>0.19</td>\n",
       "      <td>0.67</td>\n",
       "      <td>NaN</td>\n",
       "      <td>NaN</td>\n",
       "      <td>0.90</td>\n",
       "    </tr>\n",
       "    <tr>\n",
       "      <th>675299</th>\n",
       "      <td>915</td>\n",
       "      <td>0.0</td>\n",
       "      <td>0.5</td>\n",
       "      <td>NaN</td>\n",
       "      <td>0.25</td>\n",
       "      <td>NaN</td>\n",
       "      <td>NaN</td>\n",
       "      <td>0.38</td>\n",
       "      <td>0.38</td>\n",
       "      <td>0.67</td>\n",
       "      <td>NaN</td>\n",
       "      <td>NaN</td>\n",
       "      <td>0.90</td>\n",
       "    </tr>\n",
       "    <tr>\n",
       "      <th>675300</th>\n",
       "      <td>915</td>\n",
       "      <td>1.0</td>\n",
       "      <td>0.5</td>\n",
       "      <td>NaN</td>\n",
       "      <td>1.00</td>\n",
       "      <td>NaN</td>\n",
       "      <td>NaN</td>\n",
       "      <td>0.38</td>\n",
       "      <td>0.69</td>\n",
       "      <td>0.00</td>\n",
       "      <td>NaN</td>\n",
       "      <td>NaN</td>\n",
       "      <td>1.00</td>\n",
       "    </tr>\n",
       "    <tr>\n",
       "      <th>675301</th>\n",
       "      <td>915</td>\n",
       "      <td>1.0</td>\n",
       "      <td>0.5</td>\n",
       "      <td>NaN</td>\n",
       "      <td>1.00</td>\n",
       "      <td>NaN</td>\n",
       "      <td>NaN</td>\n",
       "      <td>0.56</td>\n",
       "      <td>0.00</td>\n",
       "      <td>0.33</td>\n",
       "      <td>NaN</td>\n",
       "      <td>NaN</td>\n",
       "      <td>0.70</td>\n",
       "    </tr>\n",
       "    <tr>\n",
       "      <th>675302</th>\n",
       "      <td>915</td>\n",
       "      <td>0.0</td>\n",
       "      <td>1.0</td>\n",
       "      <td>NaN</td>\n",
       "      <td>0.50</td>\n",
       "      <td>NaN</td>\n",
       "      <td>NaN</td>\n",
       "      <td>0.69</td>\n",
       "      <td>0.12</td>\n",
       "      <td>0.33</td>\n",
       "      <td>NaN</td>\n",
       "      <td>NaN</td>\n",
       "      <td>0.90</td>\n",
       "    </tr>\n",
       "  </tbody>\n",
       "</table>\n",
       "<p>675303 rows × 13 columns</p>\n",
       "</div>"
      ],
      "text/plain": [
       "        country  gender  education  social_class  income  urban  \\\n",
       "0             8     1.0        1.0          0.50    0.25   0.25   \n",
       "1             8     0.0        0.5          0.25    0.50   0.00   \n",
       "2             8     0.0        NaN          0.25    0.75   0.00   \n",
       "3             8     1.0        1.0          0.75    1.00   0.25   \n",
       "4             8     0.0        1.0          0.00    0.25   0.25   \n",
       "...         ...     ...        ...           ...     ...    ...   \n",
       "675298      915     1.0        0.5           NaN    0.50    NaN   \n",
       "675299      915     0.0        0.5           NaN    0.25    NaN   \n",
       "675300      915     1.0        0.5           NaN    1.00    NaN   \n",
       "675301      915     1.0        0.5           NaN    1.00    NaN   \n",
       "675302      915     0.0        1.0           NaN    0.50    NaN   \n",
       "\n",
       "        freedom_index  socialism_index  family_index  ethnicity_index  \\\n",
       "0                0.42             0.38          0.25             0.33   \n",
       "1                0.38             0.12          0.00             0.67   \n",
       "2                0.38             0.19          0.12             0.67   \n",
       "3                0.67             0.12          0.50             0.83   \n",
       "4                0.38             0.50          0.06             0.00   \n",
       "...               ...              ...           ...              ...   \n",
       "675298            NaN             0.56          0.19             0.67   \n",
       "675299            NaN             0.38          0.38             0.67   \n",
       "675300            NaN             0.38          0.69             0.00   \n",
       "675301            NaN             0.56          0.00             0.33   \n",
       "675302            NaN             0.69          0.12             0.33   \n",
       "\n",
       "        gender_index  nationalism_index  religiosity_index  \n",
       "0               0.50               0.33                NaN  \n",
       "1               0.33               0.58               0.47  \n",
       "2               0.33               0.75               0.43  \n",
       "3               0.89               0.16                NaN  \n",
       "4               0.00               1.00                NaN  \n",
       "...              ...                ...                ...  \n",
       "675298           NaN                NaN               0.90  \n",
       "675299           NaN                NaN               0.90  \n",
       "675300           NaN                NaN               1.00  \n",
       "675301           NaN                NaN               0.70  \n",
       "675302           NaN                NaN               0.90  \n",
       "\n",
       "[675303 rows x 13 columns]"
      ]
     },
     "execution_count": 68,
     "metadata": {},
     "output_type": "execute_result"
    }
   ],
   "source": [
    "saved_frame"
   ]
  }
 ],
 "metadata": {
  "kernelspec": {
   "display_name": "Python 3 (ipykernel)",
   "language": "python",
   "name": "python3"
  },
  "language_info": {
   "codemirror_mode": {
    "name": "ipython",
    "version": 3
   },
   "file_extension": ".py",
   "mimetype": "text/x-python",
   "name": "python",
   "nbconvert_exporter": "python",
   "pygments_lexer": "ipython3",
   "version": "3.9.13"
  }
 },
 "nbformat": 4,
 "nbformat_minor": 5
}
